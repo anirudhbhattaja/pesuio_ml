{
  "nbformat": 4,
  "nbformat_minor": 0,
  "metadata": {
    "colab": {
      "provenance": [],
      "collapsed_sections": []
    },
    "kernelspec": {
      "name": "python3",
      "display_name": "Python 3"
    },
    "language_info": {
      "name": "python"
    }
  },
  "cells": [
    {
      "cell_type": "markdown",
      "source": [
        "Welcome to the first class of undersanding ML algorithms\n",
        "Today you will get yourselves familiar with python and essentially get to dive into the basics of some libraries that you will be learning about throughout this course."
      ],
      "metadata": {
        "id": "uxWHk4LP14P2"
      }
    },
    {
      "cell_type": "markdown",
      "source": [
        "The Most basic Hello World program:"
      ],
      "metadata": {
        "id": "4TUobwcn2cvz"
      }
    },
    {
      "cell_type": "code",
      "source": [
        "print(\"Hello World!\")"
      ],
      "metadata": {
        "colab": {
          "base_uri": "https://localhost:8080/"
        },
        "id": "hE7C8tL22lmD",
        "outputId": "145a0148-dff4-4db3-d741-414b42869154"
      },
      "execution_count": null,
      "outputs": [
        {
          "output_type": "stream",
          "name": "stdout",
          "text": [
            "Hello World!\n"
          ]
        }
      ]
    },
    {
      "cell_type": "markdown",
      "source": [
        "Concept of variables and data types :\n",
        "EXERCISE: A travel company wants to fly a plane to the Bahamas. Flying the plane costs 5000 dollars. So far, 29 people have signed up for the trip. If the company charges 200 dollars per ticket, what is the profit made by the company? Create variables for each numeric quantity and use appropriate arithmetic operations."
      ],
      "metadata": {
        "id": "ovKfTdej2B9R"
      }
    },
    {
      "cell_type": "code",
      "source": [
        "flt=5000\n",
        "n=29\n",
        "profit=(200*n)-flt\n",
        "print(profit)"
      ],
      "metadata": {
        "id": "vxkFv26E23qA",
        "colab": {
          "base_uri": "https://localhost:8080/"
        },
        "outputId": "a294c79e-ee10-45d0-c34b-aa2490993bf6"
      },
      "execution_count": null,
      "outputs": [
        {
          "output_type": "stream",
          "name": "stdout",
          "text": [
            "800\n"
          ]
        }
      ]
    },
    {
      "cell_type": "markdown",
      "source": [
        "Concept of a conditional statement or a set of conditional statements and cases :\n",
        "Write a code snippet which evaluates whether a number is a multiple of just 2 , just 3 , or both 2 and 3 (multiple of 6)"
      ],
      "metadata": {
        "id": "xjAB_LDJ24I3"
      }
    },
    {
      "cell_type": "code",
      "source": [
        "#use if-else statements and print out the required information:\n",
        "num= int(input())\n",
        "#complete this area\n",
        "if(num%2==0 and num%3==0):\n",
        "  print(\"Multiple of 6!\")\n",
        "elif(num%2==0):\n",
        "  print(\"Multiple of 2\")\n",
        "elif(num%3==0):\n",
        "  print(\"Multiple of 3\")\n",
        "else:\n",
        "  print(\"None of the Above!\")\n"
      ],
      "metadata": {
        "id": "m_ZVPJuN3AXP",
        "colab": {
          "base_uri": "https://localhost:8080/"
        },
        "outputId": "5d1ff433-0e90-4cb0-da75-5358b62f3e7a"
      },
      "execution_count": null,
      "outputs": [
        {
          "output_type": "stream",
          "name": "stdout",
          "text": [
            "99\n",
            "Multiple of 3\n"
          ]
        }
      ]
    },
    {
      "cell_type": "markdown",
      "source": [
        "Concept of loops:\n",
        "Write a program to count the number of vowels in the given string:\n",
        "ANTIESTABLISHMENTARIANISTICALLY"
      ],
      "metadata": {
        "id": "O2bGzmzO3s9L"
      }
    },
    {
      "cell_type": "code",
      "source": [
        "s='AEIOU'\n",
        "word='ANTIESTABLISHMENTARIANISTICALLY'\n",
        "count_v=0\n",
        "for i in word:\n",
        "  if i in s:\n",
        "    count_v+=1\n",
        "print(count_v)\n"
      ],
      "metadata": {
        "id": "4g7drYH83vYE",
        "colab": {
          "base_uri": "https://localhost:8080/"
        },
        "outputId": "deb921ec-e6cd-4f40-b2b0-c4db75352815"
      },
      "execution_count": null,
      "outputs": [
        {
          "output_type": "stream",
          "name": "stdout",
          "text": [
            "12\n"
          ]
        }
      ]
    },
    {
      "cell_type": "markdown",
      "source": [
        "learning what each data- structure in python does and using all their functions:\n"
      ],
      "metadata": {
        "id": "e4Vc9Nw84bD5"
      }
    },
    {
      "cell_type": "markdown",
      "source": [
        "LISTS AND ITS FUNCTIONALITY:"
      ],
      "metadata": {
        "id": "OaEbJ_LY4joh"
      }
    },
    {
      "cell_type": "code",
      "source": [
        "#Define a random list of fruits \n",
        "lf=['apple','fig','mango','banana','orange','grapes']\n",
        "#iterate over the list and find the name of the fruit which has the smallest word length\n",
        "l2=[]\n",
        "for i in lf:\n",
        "  l2.append(i)\n",
        "l2=sorted(l2,key=len)\n",
        "print(l2[0])\n",
        "# l2=sorted(lf,key=len)\n",
        "# print(l2[0])\n",
        "\n",
        "# append a vegetable to your existing list\n",
        "l2.append('brinjal')\n",
        "# find the size of your list\n",
        "print(\"Length of the list is:\",len(l2))\n",
        "# add enough fruits such that your list size if greater that 4\n",
        "lf.append('custard apple')\n",
        "lf.append('pineapple')\n",
        "print(lf)\n",
        "# delete the 2nd fruit(1st index) from your list:\n",
        "del l2[1]\n",
        "# add your name in the 4th position of the list (3rd index)\n",
        "l2[3]='Atchuta Ram'\n",
        "# also use l2.insert(3,<name>)\n",
        "#have fun and try out any 4-5 pre-defined fucntions on a list as seen in the python list documentation\n",
        "print(l2)\n"
      ],
      "metadata": {
        "id": "rjle8Jat4n7b",
        "colab": {
          "base_uri": "https://localhost:8080/"
        },
        "outputId": "6854bc4b-fdd4-4280-91d4-60651739bcb9"
      },
      "execution_count": null,
      "outputs": [
        {
          "output_type": "stream",
          "name": "stdout",
          "text": [
            "fig\n",
            "Length of the list is: 7\n",
            "['apple', 'fig', 'mango', 'banana', 'orange', 'grapes', 'custard apple', 'pineapple']\n",
            "['fig', 'mango', 'banana', 'Atchuta Ram', 'grapes', 'brinjal']\n"
          ]
        }
      ]
    },
    {
      "cell_type": "markdown",
      "source": [
        "TUPLES AND ITS FUNCTIONALITY:"
      ],
      "metadata": {
        "id": "IAYs58gx4oWB"
      }
    },
    {
      "cell_type": "code",
      "source": [
        "#create abd tuple and print its elements \n",
        "a=(1,22,3,88,4)\n",
        "#print the type of each value in the tuple\n",
        "for i in a:\n",
        "  print(type(i))\n",
        "#Q) try to change the seconf value in your tuple to \"Caterpillar\"\n",
        "#ANS a[2]='Caterpillar' # gives an error as tuples are immutable\n",
        "#However  converting tuple to a list, then a list to tuple\n",
        "al=list(a)\n",
        "al[2]='Caterpillar'\n",
        "a=tuple(al)\n",
        "print(\"Now the tuple is :\",a)\n",
        "# print the last element of the tuple without using the length of the tuple\n",
        "print(a[-1])\n",
        "# slicing is an IMPORTANT concept in python especially since you will all be working on huge amounts of data so try different options \n",
        "# print(a[-2:]), print([:3]) etc...\n",
        "print(a[-1:])\n",
        "print(a[:3])\n",
        "#sort vs sorted function: find the difference in the form of a program:\n",
        "# Sort works only on lists print(a.sort())\n",
        "#print(sorted(a))"
      ],
      "metadata": {
        "id": "KquFBYey4qzu",
        "colab": {
          "base_uri": "https://localhost:8080/"
        },
        "outputId": "ed33704c-4da7-4027-81f3-74c973c49a14"
      },
      "execution_count": null,
      "outputs": [
        {
          "output_type": "stream",
          "name": "stdout",
          "text": [
            "<class 'int'>\n",
            "<class 'int'>\n",
            "<class 'int'>\n",
            "<class 'int'>\n",
            "<class 'int'>\n",
            "Now the tuple is : (1, 22, 'Caterpillar', 88, 4)\n",
            "4\n",
            "(4,)\n",
            "(1, 22, 'Caterpillar')\n"
          ]
        }
      ]
    },
    {
      "cell_type": "markdown",
      "source": [
        "SETS AND ITS FUNCTIONALITY:"
      ],
      "metadata": {
        "id": "P3xn-gIL4rS6"
      }
    },
    {
      "cell_type": "code",
      "source": [
        "#explore the properties of set and after doing that solve this little puzzle below:\n",
        "fhl=[\"ootd\", \"lol\", \"ffs\", \"asap\"]\n",
        "fh_string= \" rofl lol macha bob ootd asap fun sweet16 ffs lol asap ootd ffs macha rofl bob ootd fun candid anime happyhours bob fun happyhours\"\n",
        "word_list=fh_string.split()\n",
        "fhl_unique=set(word_list)\n",
        "#print(fhl_unique)\n",
        "for i in fhl_unique:\n",
        "  if i not in fhl:\n",
        "    fhl.append(i)\n",
        "print(fhl)"
      ],
      "metadata": {
        "id": "RlURFwFx4viZ",
        "colab": {
          "base_uri": "https://localhost:8080/"
        },
        "outputId": "d1b6d73f-1ec3-4501-9367-cbbcaf10d447"
      },
      "execution_count": null,
      "outputs": [
        {
          "output_type": "stream",
          "name": "stdout",
          "text": [
            "['ootd', 'lol', 'ffs', 'asap', 'sweet16', 'anime', 'fun', 'macha', 'candid', 'happyhours', 'bob', 'rofl']\n"
          ]
        }
      ]
    },
    {
      "cell_type": "markdown",
      "source": [
        "Ana is a data-scientist  who just started her career in Meta, however she needs to find the existance of new words on facebook hashtags and find the numbre of unique such words which need to be added to the existing facebook hastag library:\n",
        "\n",
        "facebook hastag library : [\"ootd\", \"lol\", \"ffs\", \"asap\"]\n",
        "daily facebook hastag words string: \" rofl lol macha bob ootd asap fun sweet16 ffs lol asap ootd ffs macha rofl bob ootd fun candid anime happyhours bob fun happyhours\"\n",
        "You will need to indivitually extract the words from the string and then solve this problem ?? How are you going to do that ? \n",
        "# Reading documentation should become a habit ....."
      ],
      "metadata": {
        "id": "na8tI4EH70Lt"
      }
    },
    {
      "cell_type": "code",
      "source": [
        "#solve the above problem and help ana do her work she may even hire you as her assistant!!!\n"
      ],
      "metadata": {
        "id": "0ww7Zs5BBiBQ"
      },
      "execution_count": null,
      "outputs": []
    },
    {
      "cell_type": "markdown",
      "source": [
        "DICTIONARIES AND ITS FUNCTIONALITY:"
      ],
      "metadata": {
        "id": "kMmUm2qI4wBP"
      }
    },
    {
      "cell_type": "code",
      "source": [
        "#explore the usage of dictionaries because it is literally so useful when in comes data science\n",
        "#a lot of the data you will be using will be as key-value pairs \n"
      ],
      "metadata": {
        "id": "oR-54dFT4zYN"
      },
      "execution_count": null,
      "outputs": []
    },
    {
      "cell_type": "markdown",
      "source": [
        "Given an unsorted list of some elements(may or may not be integers), Find the frequency of each distinct element in the list using a dictionary. \n",
        "Input : [1, 1, 1, 5, 5, 3, 1, 3, 3, 1,\n",
        "                  4, 4, 4, 2, 2, 2, 2]\n",
        "\n",
        "Output : 1 : 5\n",
        "         2 : 4\n",
        "         3 : 3\n",
        "         4 : 3\n",
        "         5 : 2\n",
        "\n"
      ],
      "metadata": {
        "id": "V-iZrEMlE30W"
      }
    },
    {
      "cell_type": "code",
      "source": [
        "# Python program to count the frequency of\n",
        "# elements in a list using a dictionary\n",
        " \n",
        "def CountFrequency(my_list):\n",
        " \n",
        "    # Creating an empty dictionary\n",
        "    freq = {}\n",
        "    #------fill your code here-----------------\n",
        "    for i in my_list:\n",
        "      if i not in freq:\n",
        "        freq[i]=0\n",
        "      freq[i]+=1\n",
        "    return freq\n",
        "    \n",
        "# Driver function\n",
        "if __name__ == \"__main__\":\n",
        "    my_list =[1, 1, 1, 5, 5, 3, 1, 3, 3, 1, 4, 4, 4, 2, 2, 2, 2]\n",
        " \n",
        "    print((CountFrequency(my_list)))\n"
      ],
      "metadata": {
        "id": "dPP6aUJaFbbv",
        "colab": {
          "base_uri": "https://localhost:8080/"
        },
        "outputId": "2f8b53c6-278b-46af-b428-0d2b6838a2cd"
      },
      "execution_count": null,
      "outputs": [
        {
          "output_type": "stream",
          "name": "stdout",
          "text": [
            "{1: 5, 5: 2, 3: 3, 4: 3, 2: 4}\n"
          ]
        }
      ]
    },
    {
      "cell_type": "markdown",
      "source": [
        "Now that you have finished this basics exercise in python We shall now play in teams and winning Team doesn't get homework today !"
      ],
      "metadata": {
        "id": "7AoTxECAFvfc"
      }
    }
  ]
}